{
  "nbformat": 4,
  "nbformat_minor": 0,
  "metadata": {
    "colab": {
      "provenance": []
    },
    "kernelspec": {
      "name": "python3",
      "display_name": "Python 3"
    },
    "language_info": {
      "name": "python"
    }
  },
  "cells": [
    {
      "cell_type": "code",
      "execution_count": null,
      "metadata": {
        "id": "vsrXCZbxYE9U"
      },
      "outputs": [],
      "source": [
        "import numpy as np\n",
        "import pandas as pd"
      ]
    },
    {
      "cell_type": "markdown",
      "source": [
        "Importing & Parsing the dataset as ratings and movies details"
      ],
      "metadata": {
        "id": "G-ZjZV6Icah4"
      }
    },
    {
      "cell_type": "code",
      "source": [
        "ratingData = pd.io.parsers.read_csv('ratings.dat',names=['user_id', 'movie_id', 'rating', 'time'],engine='python', delimiter='::',error_bad_lines=False)\n",
        "movieData = pd.io.parsers.read_csv('movies.dat',names=['movie_id', 'title', 'genre'],engine='python', delimiter='::',error_bad_lines=False,encoding='ISO-8859-1')\n",
        "print(ratingData)\n"
      ],
      "metadata": {
        "colab": {
          "base_uri": "https://localhost:8080/"
        },
        "id": "oCYqBg6BYYhI",
        "outputId": "e131e0ce-550c-4ea4-f469-90b64e1e668e"
      },
      "execution_count": null,
      "outputs": [
        {
          "output_type": "stream",
          "name": "stderr",
          "text": [
            "<ipython-input-2-6d10f30f6f52>:1: FutureWarning: The error_bad_lines argument has been deprecated and will be removed in a future version. Use on_bad_lines in the future.\n",
            "\n",
            "\n",
            "  ratingData = pd.io.parsers.read_csv('ratings.dat',names=['user_id', 'movie_id', 'rating', 'time'],engine='python', delimiter='::',error_bad_lines=False)\n"
          ]
        },
        {
          "output_type": "stream",
          "name": "stdout",
          "text": [
            "        user_id  movie_id  rating       time\n",
            "0             1      1193       5  978300760\n",
            "1             1       661       3  978302109\n",
            "2             1       914       3  978301968\n",
            "3             1      3408       4  978300275\n",
            "4             1      2355       5  978824291\n",
            "...         ...       ...     ...        ...\n",
            "387843     2269      3408       4  981904540\n",
            "387844     2269      3298       2  981904634\n",
            "387845     2269      3481       5  974574930\n",
            "387846     2269      2826       3  981904634\n",
            "387847     2269      2827       1  981904634\n",
            "\n",
            "[387848 rows x 4 columns]\n"
          ]
        },
        {
          "output_type": "stream",
          "name": "stderr",
          "text": [
            "<ipython-input-2-6d10f30f6f52>:2: FutureWarning: The error_bad_lines argument has been deprecated and will be removed in a future version. Use on_bad_lines in the future.\n",
            "\n",
            "\n",
            "  movieData = pd.io.parsers.read_csv('movies.dat',names=['movie_id', 'title', 'genre'],engine='python', delimiter='::',error_bad_lines=False,encoding='ISO-8859-1')\n"
          ]
        }
      ]
    },
    {
      "cell_type": "markdown",
      "source": [
        "Create the ratings matrix of shape (m×u)"
      ],
      "metadata": {
        "id": "rTvhLw7Etj0R"
      }
    },
    {
      "cell_type": "code",
      "source": [
        "ratingMatrix = np.ndarray(\n",
        "    shape=(np.max(ratingData.movie_id.values), np.max(ratingData.user_id.values)),\n",
        "    dtype=np.uint8)\n",
        "ratingMatrix[ratingData.movie_id.values-1, ratingData.user_id.values-1] = ratingData.rating.values\n",
        "print(ratingMatrix)"
      ],
      "metadata": {
        "colab": {
          "base_uri": "https://localhost:8080/"
        },
        "id": "-r932M4gYYjR",
        "outputId": "3fd4f9c7-f56e-415b-ee01-3eac5d179030"
      },
      "execution_count": null,
      "outputs": [
        {
          "output_type": "stream",
          "name": "stdout",
          "text": [
            "[[  5 179 145 ...   0   0   0]\n",
            " [  0   0   0 ...   0 137   2]\n",
            " [  0   0   0 ...   0   0   0]\n",
            " ...\n",
            " [ 61  41  58 ...  58   0   0]\n",
            " [  0   0 247 ... 244 153  40]\n",
            " [ 58   0   0 ...   0   0   0]]\n"
          ]
        }
      ]
    },
    {
      "cell_type": "markdown",
      "source": [
        "Subtract Mean off - Normalization"
      ],
      "metadata": {
        "id": "mw3FS5CPtrwo"
      }
    },
    {
      "cell_type": "code",
      "source": [
        "normalizedMatrix = ratingMatrix - np.asarray([(np.mean(ratingMatrix, 1))]).T\n",
        "print(normalizedMatrix)"
      ],
      "metadata": {
        "colab": {
          "base_uri": "https://localhost:8080/"
        },
        "id": "uHBQesFQYYmm",
        "outputId": "9d4b6a9a-3a6c-482b-c18c-15315b1e941a"
      },
      "execution_count": null,
      "outputs": [
        {
          "output_type": "stream",
          "name": "stdout",
          "text": [
            "[[ -7.98148964 166.01851036 132.01851036 ... -12.98148964 -12.98148964\n",
            "  -12.98148964]\n",
            " [-14.74878801 -14.74878801 -14.74878801 ... -14.74878801 122.25121199\n",
            "  -12.74878801]\n",
            " [-14.96253856 -14.96253856 -14.96253856 ... -14.96253856 -14.96253856\n",
            "  -14.96253856]\n",
            " ...\n",
            " [ 23.5570736    3.5570736   20.5570736  ...  20.5570736  -37.4429264\n",
            "  -37.4429264 ]\n",
            " [-46.0405465  -46.0405465  200.9594535  ... 197.9594535  106.9594535\n",
            "   -6.0405465 ]\n",
            " [ 16.37990304 -41.62009696 -41.62009696 ... -41.62009696 -41.62009696\n",
            "  -41.62009696]]\n"
          ]
        }
      ]
    },
    {
      "cell_type": "markdown",
      "source": [
        "Computing SVD"
      ],
      "metadata": {
        "id": "FYj_oidctvU7"
      }
    },
    {
      "cell_type": "code",
      "source": [
        "A = normalizedMatrix.T / np.sqrt(ratingMatrix.shape[0] - 1)\n",
        "U, S, V = np.linalg.svd(A)"
      ],
      "metadata": {
        "id": "kJC7qfSxYYoD"
      },
      "execution_count": null,
      "outputs": []
    },
    {
      "cell_type": "markdown",
      "source": [
        "Calculate cosine similarity, sort by most similar and return the top N"
      ],
      "metadata": {
        "id": "A02wmAstt2RS"
      }
    },
    {
      "cell_type": "code",
      "source": [
        "def similar(ratingData, movie_id, top_n):\n",
        "    index = movie_id - 1 # Movie id starts from 1\n",
        "    movie_row = ratingData[index, :]\n",
        "    magnitude = np.sqrt(np.einsum('ij, ij -> i', ratingData, ratingData)) #Einstein summation |  traditional matrix multiplication and is equivalent to np.matmul(a,b)\n",
        "    similarity = np.dot(movie_row, ratingData.T) / (magnitude[index] * magnitude)\n",
        "    sort_indexes = np.argsort(-similarity) #Perform an indirect sort along the given axis (Last axis)\n",
        "    return sort_indexes[:top_n]\n"
      ],
      "metadata": {
        "id": "uQpRzeQ9YYuJ"
      },
      "execution_count": null,
      "outputs": []
    },
    {
      "cell_type": "markdown",
      "source": [
        "Select k principal components to represent the movies, a movie_id to find recommendations and print the top_n results"
      ],
      "metadata": {
        "id": "tz6Ipe9ouBTK"
      }
    },
    {
      "cell_type": "code",
      "source": [
        "k = 50\n",
        "movie_id = 2\n",
        "top_n = 5\n",
        "\n",
        "sliced = V.T[:, :k] # representative data\n",
        "indexes = similar(sliced, movie_id, top_n)\n",
        "\n",
        "print('Recommendations for Movie {0}: \\n'.format(\n",
        "movieData[movieData.movie_id == movie_id].title.values[0]))\n",
        "for id in indexes + 1:\n",
        "    print(movieData[movieData.movie_id == id].title.values[0])"
      ],
      "metadata": {
        "colab": {
          "base_uri": "https://localhost:8080/"
        },
        "id": "s0JJ38yzuBhU",
        "outputId": "85528862-7559-45c6-c0c8-4bff919f4145"
      },
      "execution_count": null,
      "outputs": [
        {
          "output_type": "stream",
          "name": "stdout",
          "text": [
            "Recommendations for Movie Jumanji (1995): \n",
            "\n",
            "Jumanji (1995)\n",
            "That Thing You Do! (1996)\n",
            "Bambi (1942)\n",
            "Superman III (1983)\n",
            "Police Academy (1984)\n"
          ]
        }
      ]
    }
  ]
}